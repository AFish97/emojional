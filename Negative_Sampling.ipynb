{
 "cells": [
  {
   "cell_type": "code",
   "execution_count": 3,
   "metadata": {},
   "outputs": [],
   "source": [
    "#https://stackoverflow.com/questions/11722972/python-algorithm-to-obtain-a-randomized-negative-dataset-from-a-positive-dataset\n",
    "import csv\n",
    "from pathlib import Path\n",
    "import itertools\n",
    "import random\n",
    "\n",
    "datadir = Path(\"\"\"/Users/elena/Desktop/\"\"\")\n",
    "infilename = datadir/'emojional dataset shuffled_example.csv' #test csv with emojis \n",
    "#infilename = datadir/'emoji_joined.csv' #test csv without emojis\n",
    "outfilename = datadir/'emoji_joined_false.csv'"
   ]
  },
  {
   "cell_type": "code",
   "execution_count": 4,
   "metadata": {},
   "outputs": [],
   "source": [
    "# Split original file in words\n",
    "with open (infilename, 'rt') as infile:\n",
    "    pairs = set(frozenset(line.split()) for line in infile)\n",
    "words = list(itertools.chain.from_iterable(pairs))\n",
    "random.shuffle(words)"
   ]
  },
  {
   "cell_type": "code",
   "execution_count": 5,
   "metadata": {},
   "outputs": [],
   "source": [
    "#print(pairs)"
   ]
  },
  {
   "cell_type": "code",
   "execution_count": 6,
   "metadata": {},
   "outputs": [],
   "source": [
    "#print(words)"
   ]
  },
  {
   "cell_type": "code",
   "execution_count": 7,
   "metadata": {},
   "outputs": [],
   "source": [
    "# Obtain pairs of words\n",
    "with open(outfilename, 'wt') as outfile:\n",
    "    for pair in zip(*[iter(words)] * 2):\n",
    "        if frozenset(pair) not in pairs:\n",
    "            outfile.write(\"%s\\t%s\\n\" % pair)"
   ]
  },
  {
   "cell_type": "code",
   "execution_count": null,
   "metadata": {},
   "outputs": [],
   "source": [
    "    "
   ]
  },
  {
   "cell_type": "code",
   "execution_count": null,
   "metadata": {},
   "outputs": [],
   "source": []
  }
 ],
 "metadata": {
  "kernelspec": {
   "display_name": "Python 3",
   "language": "python",
   "name": "python3"
  },
  "language_info": {
   "codemirror_mode": {
    "name": "ipython",
    "version": 3
   },
   "file_extension": ".py",
   "mimetype": "text/x-python",
   "name": "python",
   "nbconvert_exporter": "python",
   "pygments_lexer": "ipython3",
   "version": "3.8.8"
  }
 },
 "nbformat": 4,
 "nbformat_minor": 4
}
