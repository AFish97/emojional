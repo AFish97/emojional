{
 "cells": [
  {
   "cell_type": "markdown",
   "metadata": {},
   "source": [
    "Please check out the original [tensorflow implementation](https://github.com/uclmr/emoji2vec) of Emoji2Vec by its authors as well as the [paper](https://arxiv.org/pdf/1609.08359.pdf) for more details. <br>\n",
    "This notebook is intended to provide an intuition behind Emoji2Vec and provide an idea of its features rather than serve as a in-depth analysis of the framework."
   ]
  },
  {
   "cell_type": "code",
   "execution_count": 2,
   "metadata": {},
   "outputs": [],
   "source": [
    "# External dependencies\n",
    "import os\n",
    "import numpy as np\n",
    "import pickle as pk\n",
    "import gensim.models as gsm\n",
    "import torch\n",
    "from tabulate import tabulate\n",
    "\n",
    "# Internal dependencies\n",
    "from model import Emoji2Vec, ModelParams\n",
    "from phrase2vec import Phrase2Vec\n",
    "from utils import build_kb, get_examples_from_kb, generate_embeddings, get_metrics, generate_predictions"
   ]
  },
  {
   "cell_type": "markdown",
   "metadata": {},
   "source": [
    "### What is Emoji2Vec?\n",
    "Emoji2Vec representations are a form of distributed representations for Unicode emojis, trained directly from natural language descriptions of emojis. <br>\n",
    "This notebook presents a high level walkthrough the process of training Emoji2Vec representations and demonstrates some experimental results. <br><br>\n",
    "First, lets define the logical steps in training Emoji2Vec representations.\n",
    "1. For each emoji in a data set a number of natural language descriptions is collected.\n",
    "2. Each description is encoded to a fixed form vector in a high dimensional space. \n",
    "    - Although it can be done by an arbitrary encoding method, this implementation follows the approach presented in the [paper](https://arxiv.org/pdf/1609.08359.pdf) using 300-dimensional [Google News word2vec embeddings](https://code.google.com/archive/p/word2vec/) together with a simple phrase encoder `phrase2vec.Phrase2Vec`.\n",
    "3. A neural network model is trained to classify emojis from their descriptions.\n",
    "    - Inside the model each unique emoji has its own vector of parameters that is updated when this emoji is being classified. Through continuous incrementation in training such vectors of parameters become emoji representations.\n",
    "4. Neural network's parameters are extracted and used as distributed emoji representations that are embedded in the same space as the underlying word embeddings."
   ]
  },
  {
   "cell_type": "markdown",
   "metadata": {},
   "source": [
    "### How to train Emoji2Vec representations?\n",
    "First, we need a couple of things to train Emoji2Vec representations. Most importantly we need something to encode natural language descriptions of emojis to a fixed form high dimensional vectors. For this we are going to use [Google News wor2vec embeddings](https://code.google.com/archive/p/word2vec/), so in order to continue with this notebook make sure you've downloaded those embeddings and placed a `.bin.gz` file in `data/word2vec`. <br><br>\n",
    "Of course we also need some emojis and their natural language descriptions. Fortunately authors of the paper collected a data set that is part of this repository. <br>\n",
    "Our training data set is in `data/training`. Let's add this directory to our parameters."
   ]
  },
  {
   "cell_type": "code",
   "execution_count": 3,
   "metadata": {},
   "outputs": [],
   "source": [
    "params = {\"data_folder\": \"data/training\"}"
   ]
  },
  {
   "cell_type": "markdown",
   "metadata": {},
   "source": [
    "To train Emoji2Vec representations we need to put emojis in some sort of organised structure, so that after training we know which vector of parameters in the model is associated with which emoji. Of course the same needs to be done for each phrase (natural language description of emoji) in the data set so that we know which descrption describes which emoji."
   ]
  },
  {
   "cell_type": "code",
   "execution_count": 4,
   "metadata": {},
   "outputs": [
    {
     "name": "stdout",
     "output_type": "stream",
     "text": [
      "reading training data from: data/training\n"
     ]
    }
   ],
   "source": [
    "# Build knowledge base\n",
    "print('reading training data from: ' + params[\"data_folder\"])\n",
    "kb, ind2phr, ind2emoji = build_kb(params[\"data_folder\"])\n"
   ]
  },
  {
   "cell_type": "markdown",
   "metadata": {},
   "source": [
    "We'll need this emoji mapping later, so for now let's save it to a file."
   ]
  },
  {
   "cell_type": "code",
   "execution_count": 5,
   "metadata": {},
   "outputs": [],
   "source": [
    "params.update({\"mapping_file\": \"emoji_mapping_file.pkl\"})"
   ]
  },
  {
   "cell_type": "code",
   "execution_count": 6,
   "metadata": {},
   "outputs": [],
   "source": [
    "# Save the mapping from index to emoji\n",
    "pk.dump(ind2emoji, open(params[\"mapping_file\"], 'wb'))"
   ]
  },
  {
   "cell_type": "markdown",
   "metadata": {},
   "source": [
    "Time to encode descriptions of emojis to fixed form vectors. As mentioned before we're using 300 dimensional Google News embeddings located in `data/word2vec`. As we will need them later we're going to save the generated embeddings of descriptions to a file `phrase_embeddings.pkl`. <br>Let's add those paths to our parameters."
   ]
  },
  {
   "cell_type": "code",
   "execution_count": 7,
   "metadata": {},
   "outputs": [],
   "source": [
    "params.update({\"word2vec_embeddings_file\": \"data/word2vec/GoogleNews-vectors-negative300.bin\",\n",
    "               \"phrase_embeddings_file\": \"phrase_embeddings.pkl\"})"
   ]
  },
  {
   "cell_type": "markdown",
   "metadata": {},
   "source": [
    "To reitarete - phrase embeddings are embeddigns of each emoji description that will serve as input for the neural network, whereas Google News embeddings are what we use to generate phrase embeddings. <br>"
   ]
  },
  {
   "cell_type": "code",
   "execution_count": 8,
   "metadata": {},
   "outputs": [
    {
     "name": "stdout",
     "output_type": "stream",
     "text": [
      "loading embeddings...\n"
     ]
    }
   ],
   "source": [
    "# Generate embeddings for each phrase in the training set\n",
    "embeddings_array = generate_embeddings(ind2phr=ind2phr, kb=kb, embeddings_file=params[\"phrase_embeddings_file\"],\n",
    "                                       word2vec_file=params[\"word2vec_embeddings_file\"])"
   ]
  },
  {
   "cell_type": "markdown",
   "metadata": {},
   "source": [
    "So we have the training input (phrase embeddings), now let's load our training and development data sets."
   ]
  },
  {
   "cell_type": "code",
   "execution_count": 9,
   "metadata": {},
   "outputs": [],
   "source": [
    "train_set = get_examples_from_kb(kb=kb, example_type='train')\n",
    "dev_set = get_examples_from_kb(kb=kb, example_type='dev')"
   ]
  },
  {
   "cell_type": "markdown",
   "metadata": {},
   "source": [
    "And define training parameters."
   ]
  },
  {
   "cell_type": "code",
   "execution_count": 10,
   "metadata": {},
   "outputs": [],
   "source": [
    "model_params = ModelParams(in_dim=300, \n",
    "                           out_dim=300, \n",
    "                           max_epochs=60, \n",
    "                           pos_ex=4, \n",
    "                           neg_ratio=1, \n",
    "                           learning_rate=0.001,\n",
    "                           dropout=0.0, \n",
    "                           class_threshold=0.5)"
   ]
  },
  {
   "cell_type": "markdown",
   "metadata": {},
   "source": [
    "Define the model, it needs to know the training parameters, the number of emojis (size of parameter matrix depends on it) and the matrix of phrase embeddings (embeddings of emoji descriptions)."
   ]
  },
  {
   "cell_type": "code",
   "execution_count": 11,
   "metadata": {},
   "outputs": [],
   "source": [
    "model = Emoji2Vec(model_params=model_params, num_emojis=kb.dim_size(0), embeddings_array=embeddings_array)"
   ]
  },
  {
   "cell_type": "markdown",
   "metadata": {},
   "source": [
    "Now that the model has been defined, let's train it! "
   ]
  },
  {
   "cell_type": "code",
   "execution_count": 12,
   "metadata": {},
   "outputs": [
    {
     "name": "stdout",
     "output_type": "stream",
     "text": [
      "Epoch: 1 \n",
      " Training loss: 0.68 \n",
      " Training acc: 0.55 \n",
      " Training f1: 0.54 \n",
      " ===================\n",
      "Epoch: 2 \n",
      " Training loss: 0.61 \n",
      " Training acc: 0.71 \n",
      " Training f1: 0.74 \n",
      " ===================\n",
      "Epoch: 3 \n",
      " Training loss: 0.55 \n",
      " Training acc: 0.78 \n",
      " Training f1: 0.8 \n",
      " ===================\n",
      "Epoch: 4 \n",
      " Training loss: 0.49 \n",
      " Training acc: 0.83 \n",
      " Training f1: 0.85 \n",
      " ===================\n",
      "Epoch: 5 \n",
      " Training loss: 0.45 \n",
      " Training acc: 0.86 \n",
      " Training f1: 0.88 \n",
      " ===================\n",
      "Epoch: 6 \n",
      " Training loss: 0.41 \n",
      " Training acc: 0.88 \n",
      " Training f1: 0.89 \n",
      " ===================\n",
      "Epoch: 7 \n",
      " Training loss: 0.38 \n",
      " Training acc: 0.9 \n",
      " Training f1: 0.91 \n",
      " ===================\n",
      "Epoch: 8 \n",
      " Training loss: 0.35 \n",
      " Training acc: 0.92 \n",
      " Training f1: 0.92 \n",
      " ===================\n",
      "Epoch: 9 \n",
      " Training loss: 0.32 \n",
      " Training acc: 0.93 \n",
      " Training f1: 0.93 \n",
      " ===================\n",
      "Epoch: 10 \n",
      " Training loss: 0.3 \n",
      " Training acc: 0.93 \n",
      " Training f1: 0.94 \n",
      " ===================\n",
      "Epoch: 11 \n",
      " Training loss: 0.28 \n",
      " Training acc: 0.93 \n",
      " Training f1: 0.94 \n",
      " ===================\n",
      "Epoch: 12 \n",
      " Training loss: 0.27 \n",
      " Training acc: 0.94 \n",
      " Training f1: 0.95 \n",
      " ===================\n",
      "Epoch: 13 \n",
      " Training loss: 0.25 \n",
      " Training acc: 0.95 \n",
      " Training f1: 0.95 \n",
      " ===================\n",
      "Epoch: 14 \n",
      " Training loss: 0.23 \n",
      " Training acc: 0.95 \n",
      " Training f1: 0.96 \n",
      " ===================\n",
      "Epoch: 15 \n",
      " Training loss: 0.22 \n",
      " Training acc: 0.95 \n",
      " Training f1: 0.95 \n",
      " ===================\n",
      "Epoch: 16 \n",
      " Training loss: 0.21 \n",
      " Training acc: 0.96 \n",
      " Training f1: 0.96 \n",
      " ===================\n",
      "Epoch: 17 \n",
      " Training loss: 0.2 \n",
      " Training acc: 0.96 \n",
      " Training f1: 0.96 \n",
      " ===================\n",
      "Epoch: 18 \n",
      " Training loss: 0.19 \n",
      " Training acc: 0.96 \n",
      " Training f1: 0.96 \n",
      " ===================\n",
      "Epoch: 19 \n",
      " Training loss: 0.18 \n",
      " Training acc: 0.96 \n",
      " Training f1: 0.96 \n",
      " ===================\n",
      "Epoch: 20 \n",
      " Training loss: 0.17 \n",
      " Training acc: 0.96 \n",
      " Training f1: 0.96 \n",
      " ===================\n",
      "Epoch: 21 \n",
      " Training loss: 0.17 \n",
      " Training acc: 0.96 \n",
      " Training f1: 0.96 \n",
      " ===================\n",
      "Epoch: 22 \n",
      " Training loss: 0.16 \n",
      " Training acc: 0.96 \n",
      " Training f1: 0.96 \n",
      " ===================\n",
      "Epoch: 23 \n",
      " Training loss: 0.16 \n",
      " Training acc: 0.97 \n",
      " Training f1: 0.97 \n",
      " ===================\n",
      "Epoch: 24 \n",
      " Training loss: 0.15 \n",
      " Training acc: 0.96 \n",
      " Training f1: 0.97 \n",
      " ===================\n",
      "Epoch: 25 \n",
      " Training loss: 0.14 \n",
      " Training acc: 0.97 \n",
      " Training f1: 0.97 \n",
      " ===================\n",
      "Epoch: 26 \n",
      " Training loss: 0.14 \n",
      " Training acc: 0.97 \n",
      " Training f1: 0.97 \n",
      " ===================\n",
      "Epoch: 27 \n",
      " Training loss: 0.13 \n",
      " Training acc: 0.97 \n",
      " Training f1: 0.97 \n",
      " ===================\n",
      "Epoch: 28 \n",
      " Training loss: 0.13 \n",
      " Training acc: 0.97 \n",
      " Training f1: 0.97 \n",
      " ===================\n",
      "Epoch: 29 \n",
      " Training loss: 0.13 \n",
      " Training acc: 0.97 \n",
      " Training f1: 0.97 \n",
      " ===================\n",
      "Epoch: 30 \n",
      " Training loss: 0.12 \n",
      " Training acc: 0.97 \n",
      " Training f1: 0.97 \n",
      " ===================\n",
      "Epoch: 31 \n",
      " Training loss: 0.12 \n",
      " Training acc: 0.97 \n",
      " Training f1: 0.97 \n",
      " ===================\n",
      "Epoch: 32 \n",
      " Training loss: 0.11 \n",
      " Training acc: 0.97 \n",
      " Training f1: 0.97 \n",
      " ===================\n",
      "Epoch: 33 \n",
      " Training loss: 0.11 \n",
      " Training acc: 0.97 \n",
      " Training f1: 0.97 \n",
      " ===================\n",
      "Epoch: 34 \n",
      " Training loss: 0.11 \n",
      " Training acc: 0.97 \n",
      " Training f1: 0.97 \n",
      " ===================\n",
      "Epoch: 35 \n",
      " Training loss: 0.11 \n",
      " Training acc: 0.97 \n",
      " Training f1: 0.97 \n",
      " ===================\n",
      "Epoch: 36 \n",
      " Training loss: 0.11 \n",
      " Training acc: 0.97 \n",
      " Training f1: 0.97 \n",
      " ===================\n",
      "Epoch: 37 \n",
      " Training loss: 0.1 \n",
      " Training acc: 0.97 \n",
      " Training f1: 0.97 \n",
      " ===================\n",
      "Epoch: 38 \n",
      " Training loss: 0.1 \n",
      " Training acc: 0.97 \n",
      " Training f1: 0.97 \n",
      " ===================\n",
      "Epoch: 39 \n",
      " Training loss: 0.1 \n",
      " Training acc: 0.97 \n",
      " Training f1: 0.97 \n",
      " ===================\n",
      "Epoch: 40 \n",
      " Training loss: 0.09 \n",
      " Training acc: 0.97 \n",
      " Training f1: 0.98 \n",
      " ===================\n",
      "Epoch: 41 \n",
      " Training loss: 0.09 \n",
      " Training acc: 0.97 \n",
      " Training f1: 0.97 \n",
      " ===================\n",
      "Epoch: 42 \n",
      " Training loss: 0.09 \n",
      " Training acc: 0.97 \n",
      " Training f1: 0.97 \n",
      " ===================\n",
      "Epoch: 43 \n",
      " Training loss: 0.09 \n",
      " Training acc: 0.97 \n",
      " Training f1: 0.97 \n",
      " ===================\n",
      "Epoch: 44 \n",
      " Training loss: 0.09 \n",
      " Training acc: 0.98 \n",
      " Training f1: 0.98 \n",
      " ===================\n",
      "Epoch: 45 \n",
      " Training loss: 0.09 \n",
      " Training acc: 0.97 \n",
      " Training f1: 0.97 \n",
      " ===================\n",
      "Epoch: 46 \n",
      " Training loss: 0.09 \n",
      " Training acc: 0.97 \n",
      " Training f1: 0.97 \n",
      " ===================\n",
      "Epoch: 47 \n",
      " Training loss: 0.08 \n",
      " Training acc: 0.98 \n",
      " Training f1: 0.98 \n",
      " ===================\n",
      "Epoch: 48 \n",
      " Training loss: 0.08 \n",
      " Training acc: 0.98 \n",
      " Training f1: 0.98 \n",
      " ===================\n",
      "Epoch: 49 \n",
      " Training loss: 0.08 \n",
      " Training acc: 0.97 \n",
      " Training f1: 0.97 \n",
      " ===================\n",
      "Epoch: 50 \n",
      " Training loss: 0.08 \n",
      " Training acc: 0.98 \n",
      " Training f1: 0.98 \n",
      " ===================\n",
      "Epoch: 51 \n",
      " Training loss: 0.08 \n",
      " Training acc: 0.98 \n",
      " Training f1: 0.98 \n",
      " ===================\n",
      "Epoch: 52 \n",
      " Training loss: 0.08 \n",
      " Training acc: 0.98 \n",
      " Training f1: 0.98 \n",
      " ===================\n",
      "Epoch: 53 \n",
      " Training loss: 0.08 \n",
      " Training acc: 0.97 \n",
      " Training f1: 0.97 \n",
      " ===================\n",
      "Epoch: 54 \n",
      " Training loss: 0.07 \n",
      " Training acc: 0.98 \n",
      " Training f1: 0.98 \n",
      " ===================\n",
      "Epoch: 55 \n",
      " Training loss: 0.08 \n",
      " Training acc: 0.97 \n",
      " Training f1: 0.97 \n",
      " ===================\n",
      "Epoch: 56 \n",
      " Training loss: 0.07 \n",
      " Training acc: 0.98 \n",
      " Training f1: 0.98 \n",
      " ===================\n",
      "Epoch: 57 \n",
      " Training loss: 0.07 \n",
      " Training acc: 0.98 \n",
      " Training f1: 0.98 \n",
      " ===================\n",
      "Epoch: 58 \n",
      " Training loss: 0.07 \n",
      " Training acc: 0.98 \n",
      " Training f1: 0.98 \n",
      " ===================\n",
      "Epoch: 59 \n",
      " Training loss: 0.07 \n",
      " Training acc: 0.98 \n",
      " Training f1: 0.98 \n",
      " ===================\n",
      "Epoch: 60 \n",
      " Training loss: 0.07 \n",
      " Training acc: 0.98 \n",
      " Training f1: 0.98 \n",
      " ===================\n"
     ]
    }
   ],
   "source": [
    "model.train(kb=kb, epochs=model_params.max_epochs, learning_rate=model_params.learning_rate)"
   ]
  },
  {
   "cell_type": "markdown",
   "metadata": {},
   "source": [
    "Let's save the trained PyTorch model to a file so that we can load it later if we need it."
   ]
  },
  {
   "cell_type": "code",
   "execution_count": 13,
   "metadata": {},
   "outputs": [],
   "source": [
    "model_folder = 'example_emoji2vec'\n",
    "if not os.path.isdir(model_folder):\n",
    "    os.makedirs(model_folder)\n",
    "    \n",
    "torch.save(model.nn, model_folder + '/model.pt')"
   ]
  },
  {
   "cell_type": "markdown",
   "metadata": {},
   "source": [
    "Now that the model is trained and saved we need to extract emoji representations from the neural network's parameters. <br>\n",
    "This can be done by a `model.Emoji2Vec` method called `create_gensim_files`, which will save the distributed representations of emojis in a format compatible with `gensim.models` allowing us to add Emoji2Vec representations to a gensim model and use them as any other word embeddings.\n"
   ]
  },
  {
   "cell_type": "code",
   "execution_count": 14,
   "metadata": {},
   "outputs": [],
   "source": [
    "e2v = model.create_gensim_files(model_folder=model_folder, ind2emoj=ind2emoji, out_dim=model_params.out_dim)"
   ]
  },
  {
   "cell_type": "markdown",
   "metadata": {},
   "source": [
    "#### Done.\n",
    "That's it, you've generated your own Emoji2Vec representations which now sit in `example_emoji2vec/` as `emoji2vec.txt` and `emoji2vec.bin`. Good job. <br>\n",
    "Now is the time for the fun part, for example we can create a gensim model with our newly generated emoji embeddings."
   ]
  },
  {
   "cell_type": "code",
   "execution_count": 15,
   "metadata": {},
   "outputs": [],
   "source": [
    "e2v = gsm.KeyedVectors.load_word2vec_format(\"example_emoji2vec/emoji2vec.bin\", binary=True)"
   ]
  },
  {
   "cell_type": "markdown",
   "metadata": {},
   "source": [
    "Let's take a look at some of the emojis in the data set."
   ]
  },
  {
   "cell_type": "code",
   "execution_count": 16,
   "metadata": {},
   "outputs": [],
   "source": [
    "vocabulary = e2v.key_to_index.keys()"
   ]
  },
  {
   "cell_type": "code",
   "execution_count": 17,
   "metadata": {},
   "outputs": [
    {
     "name": "stdout",
     "output_type": "stream",
     "text": [
      "['🐶' '👎' '👈' '🗝' '🥣' '🌟' '🇬🇺' '🐲' '🧑\\u200d🔬' '⛔']\n"
     ]
    }
   ],
   "source": [
    "# Sample 10 random emojis from the data set.\n",
    "example_emojis = np.random.choice(list(vocabulary), 10)\n",
    "print(example_emojis)"
   ]
  },
  {
   "cell_type": "markdown",
   "metadata": {},
   "source": [
    "Each of the above emojis has its own vector representation."
   ]
  },
  {
   "cell_type": "code",
   "execution_count": 18,
   "metadata": {},
   "outputs": [
    {
     "data": {
      "text/plain": [
       "array([[ 0.01237914, -0.6340719 , -0.05370076, ...,  0.44213054,\n",
       "        -0.29079998, -0.02131909],\n",
       "       [-0.10699613, -0.8837111 ,  0.24367897, ...,  0.06239364,\n",
       "        -0.40534386, -0.10414707],\n",
       "       [-0.11828447, -0.1465209 , -0.0148176 , ...,  0.2494605 ,\n",
       "         0.17834519, -0.19599813],\n",
       "       ...,\n",
       "       [ 0.51543856, -0.03214123,  0.05075327, ...,  0.28191367,\n",
       "        -0.070646  , -1.0734489 ],\n",
       "       [-0.177938  ,  0.0614969 ,  0.2951721 , ...,  0.15840364,\n",
       "         0.28126538,  0.2250081 ],\n",
       "       [-0.53266716, -0.5472906 ,  0.18449265, ...,  0.02622689,\n",
       "        -0.29174468, -0.28194213]], dtype=float32)"
      ]
     },
     "execution_count": 18,
     "metadata": {},
     "output_type": "execute_result"
    }
   ],
   "source": [
    "e2v[example_emojis]"
   ]
  },
  {
   "cell_type": "markdown",
   "metadata": {},
   "source": [
    "Thanks to the fact that the learnt emoji representations are compatible with `gensim.models`, we can do a lot of cool things like finding similar emojis."
   ]
  },
  {
   "cell_type": "code",
   "execution_count": 19,
   "metadata": {},
   "outputs": [
    {
     "data": {
      "text/plain": [
       "[('🦖', 0.5381361842155457),\n",
       " ('🐦', 0.5250487923622131),\n",
       " ('🐁', 0.5234279632568359),\n",
       " ('🦜', 0.517848014831543),\n",
       " ('🐭', 0.5172520279884338),\n",
       " ('🐟', 0.5159448385238647),\n",
       " ('🕋', 0.515628457069397),\n",
       " ('🐸', 0.5142031311988831),\n",
       " ('🐍', 0.5135039687156677),\n",
       " ('🐊', 0.5085179805755615)]"
      ]
     },
     "execution_count": 19,
     "metadata": {},
     "output_type": "execute_result"
    }
   ],
   "source": [
    "e2v.most_similar('🦎')"
   ]
  },
  {
   "cell_type": "code",
   "execution_count": 20,
   "metadata": {},
   "outputs": [
    {
     "data": {
      "text/plain": [
       "[('😢', 0.7393065690994263),\n",
       " ('😓', 0.606322705745697),\n",
       " ('😞', 0.5818456411361694),\n",
       " ('😥', 0.5702885389328003),\n",
       " ('🙀', 0.5624997019767761),\n",
       " ('😔', 0.5577625632286072),\n",
       " ('😭', 0.5569652915000916),\n",
       " ('😕', 0.537689208984375),\n",
       " ('🤧', 0.5143035650253296),\n",
       " ('😾', 0.5132414102554321)]"
      ]
     },
     "execution_count": 20,
     "metadata": {},
     "output_type": "execute_result"
    }
   ],
   "source": [
    "e2v.most_similar('😿')"
   ]
  },
  {
   "cell_type": "code",
   "execution_count": 21,
   "metadata": {},
   "outputs": [
    {
     "data": {
      "text/plain": [
       "[('🐯', 0.6086215376853943),\n",
       " ('🦽', 0.596916913986206),\n",
       " ('🐄', 0.5850686430931091),\n",
       " ('🐮', 0.5691218972206116),\n",
       " ('🐷', 0.5652249455451965),\n",
       " ('🐌', 0.5475101470947266),\n",
       " ('🐕', 0.5405159592628479),\n",
       " ('🐁', 0.5357159376144409),\n",
       " ('🦊', 0.531782865524292),\n",
       " ('🐽', 0.5238668322563171)]"
      ]
     },
     "execution_count": 21,
     "metadata": {},
     "output_type": "execute_result"
    }
   ],
   "source": [
    "e2v.most_similar('🦥')"
   ]
  },
  {
   "cell_type": "code",
   "execution_count": 22,
   "metadata": {},
   "outputs": [
    {
     "data": {
      "text/plain": [
       "[('💰', 0.6425021290779114),\n",
       " ('💳', 0.6419100761413574),\n",
       " ('🛍', 0.5991641283035278),\n",
       " ('🏬', 0.5774742364883423),\n",
       " ('💵', 0.5749498009681702),\n",
       " ('🛒', 0.5715884566307068),\n",
       " ('🧾', 0.5660741925239563),\n",
       " ('🧳', 0.5629919171333313),\n",
       " ('🔷', 0.5309175848960876),\n",
       " ('💲', 0.5262939929962158)]"
      ]
     },
     "execution_count": 22,
     "metadata": {},
     "output_type": "execute_result"
    }
   ],
   "source": [
    "e2v.most_similar('👛')"
   ]
  },
  {
   "cell_type": "markdown",
   "metadata": {},
   "source": [
    "However the real fun starts when we combine the power of emoji embeddings with word embeddings. <br>\n",
    "Let's create a model that combines the two, this will allow us to measure similarity between emojis and phrases. "
   ]
  },
  {
   "cell_type": "code",
   "execution_count": 23,
   "metadata": {},
   "outputs": [],
   "source": [
    "phraseVecModel = Phrase2Vec.from_word2vec_paths(300,\n",
    "                                                \"data/word2vec/GoogleNews-vectors-negative300.bin\",\n",
    "                                                \"example_emoji2vec/emoji2vec.bin\")"
   ]
  },
  {
   "cell_type": "code",
   "execution_count": 24,
   "metadata": {},
   "outputs": [],
   "source": [
    "# mapping from id to emoji\n",
    "mapping = pk.load(open(params[\"mapping_file\"], 'rb'))\n",
    "# mapping from emoji to id\n",
    "inverse_mapping = {v: k for k, v in mapping.items()}"
   ]
  },
  {
   "cell_type": "code",
   "execution_count": 25,
   "metadata": {},
   "outputs": [],
   "source": [
    "def find_analogous_emoji(emoji_1,\n",
    "                         emoji_2,\n",
    "                         emoji_3,\n",
    "                         top_n,\n",
    "                         mapping=mapping,\n",
    "                         inverse_mapping=inverse_mapping,\n",
    "                         e2v=e2v,\n",
    "                         model=model):\n",
    "    similarities = []\n",
    "    vector = e2v[emoji_1] - e2v[emoji_2] + e2v[emoji_3]\n",
    "    vector = vector / np.linalg.norm(vector)\n",
    "    \n",
    "    for idx in range(len(mapping)):\n",
    "        emoij_idx_similarity = model.nn.forward(torch.Tensor(vector.reshape(1, -1)), idx).detach().numpy()\n",
    "        similarities.append(emoij_idx_similarity)\n",
    "    \n",
    "    similarities = np.array(similarities)\n",
    "    n_most_similar_idxs = similarities.argsort(axis=0)[-top_n:][::-1].reshape(-1)\n",
    "    n_most_similar_emojis = [mapping[emoji_idx] for emoji_idx in n_most_similar_idxs]\n",
    "    \n",
    "    str_expression = ' '.join([emoji_1, \"-\", emoji_2, \"+\", emoji_3,])\n",
    "    top_score = similarities[n_most_similar_idxs[0]]\n",
    "    \n",
    "    return str_expression, n_most_similar_emojis\n",
    "        "
   ]
  },
  {
   "cell_type": "code",
   "execution_count": 26,
   "metadata": {},
   "outputs": [],
   "source": [
    "table = [[\"Expression\", \"Closest emojis\"],\n",
    "         [*find_analogous_emoji(\"🤴\", \"🚹\", \"🚺\", 3)],\n",
    "         [*find_analogous_emoji(\"👑\", \"🚹\", \"🚺\", 3)],\n",
    "         [*find_analogous_emoji(\"👦\", \"🚹\", \"🚺\", 3)],\n",
    "         [*find_analogous_emoji(\"💵\", \"🇺🇸\", \"🇬🇧\", 3)],\n",
    "         [*find_analogous_emoji(\"💵\", \"🇺🇸\", \"🇪🇺\", 3)],\n",
    "         [*find_analogous_emoji(\"💷\", \"🇬🇧\", \"🇪🇺\", 3)]]"
   ]
  },
  {
   "cell_type": "code",
   "execution_count": 27,
   "metadata": {},
   "outputs": [
    {
     "name": "stdout",
     "output_type": "stream",
     "text": [
      "============  ==================================\n",
      "Expression    Closest emojis\n",
      "============  ==================================\n",
      "🤴 - 🚹 + 🚺  ['🤴', '👸', '👑']\n",
      "👑 - 🚹 + 🚺  ['👑', '👸', '💎']\n",
      "👦 - 🚹 + 🚺  ['👦', '👨\\u200d🎓', '👨\\u200d🏫']\n",
      "💵 - 🇺🇸 + 🇬🇧  ['💵', '👛', '🤕']\n",
      "💵 - 🇺🇸 + 🇪🇺  ['💵', '👑', '🦏']\n",
      "💷 - 🇬🇧 + 🇪🇺  ['💷', '🇪🇺', '🦏']\n",
      "============  ==================================\n"
     ]
    }
   ],
   "source": [
    "print(tabulate(table, headers=\"firstrow\", tablefmt=\"rst\"))"
   ]
  },
  {
   "cell_type": "markdown",
   "metadata": {},
   "source": [
    "Although far from perfect, similarly to the [published](https://arxiv.org/pdf/1609.08359.pdf) results an emoji considered to be \"right\" is usually within the top 3 examples selected by the model."
   ]
  },
  {
   "cell_type": "markdown",
   "metadata": {},
   "source": [
    "Combining Emoji2Vec representations with word2vec embeddings they were trained on also allows to inspect the relationships between word embeddings and emoji embeddings. For example with the `phrase2emoji` function below we can see emojis most similar to an arbitrary phrase."
   ]
  },
  {
   "cell_type": "code",
   "execution_count": 28,
   "metadata": {},
   "outputs": [],
   "source": [
    "def phrase2emoji(phrase, \n",
    "                 top_n,\n",
    "                 phraseVecModel=phraseVecModel,\n",
    "                 mapping=mapping,\n",
    "                 model=model):\n",
    "    \n",
    "    similarities = []\n",
    "    phrase_vec = phraseVecModel[phrase]\n",
    "    for idx in range(len(mapping)):\n",
    "        emoij_idx_similarity = model.nn.forward(torch.Tensor(phrase_vec.reshape(1, -1)), idx).detach().numpy()\n",
    "        similarities.append(emoij_idx_similarity)\n",
    "        \n",
    "    similarities = np.array(similarities)\n",
    "    n_most_similar_idxs = similarities.argsort(axis=0)[-top_n:][::-1].reshape(-1)\n",
    "    n_most_similar_emojis = [mapping[emoji_idx] for emoji_idx in n_most_similar_idxs]\n",
    "    \n",
    "    return phrase, n_most_similar_emojis\n",
    "    "
   ]
  },
  {
   "cell_type": "code",
   "execution_count": 29,
   "metadata": {},
   "outputs": [],
   "source": [
    "table = [[\"Phrase\", \"Closest emojis\"],\n",
    "         [*phrase2emoji(\"funny\", 3)],\n",
    "         [*phrase2emoji(\"scary\", 3)],\n",
    "         [*phrase2emoji(\"okay\", 3)],\n",
    "         [*phrase2emoji(\"crazy\", 3)],\n",
    "         [*phrase2emoji(\"wild\", 3)],\n",
    "         [*phrase2emoji(\"afraid\", 3)]]"
   ]
  },
  {
   "cell_type": "code",
   "execution_count": 30,
   "metadata": {},
   "outputs": [
    {
     "name": "stdout",
     "output_type": "stream",
     "text": [
      "========  ==========================\n",
      "Phrase    Closest emojis\n",
      "========  ==========================\n",
      "funny     ['👻', '😂', '💩']\n",
      "scary     ['👻', '🤡', '🦇']\n",
      "okay      ['👍', '👌', '🉑']\n",
      "crazy     ['🤪', '🦉', '🥜']\n",
      "wild      ['🐅', '🤪', '🐖']\n",
      "afraid    ['🤡', '😷', '\\U0001fab3']\n",
      "========  ==========================\n"
     ]
    }
   ],
   "source": [
    "print(tabulate(table, headers=\"firstrow\", tablefmt=\"rst\"))"
   ]
  },
  {
   "cell_type": "markdown",
   "metadata": {},
   "source": [
    "There seems to exist a strong relationship between simple adjectives and emojis. That's great, but is this the whole point of Emoji2Vec? <br>\n",
    "Of course not. In fact Emoji2Vec authors evaluated their method's performance on a downstream task of sentiment classification on a dataset  by  Kralj   Novak  et  al.  (2015),  which  consists of over 67k English tweets labelled manually for positive, neutral, or negative sentiment. Using Emoji2Vec alongside word embeddings, as opposed to using just word embeddings, yielded an improvement in classification accuracy across all studied datasets. In the same task Emoji2Vec also outperformed an alternative method for emoji representation. <br>\n",
    "For more details check out the [paper](https://arxiv.org/pdf/1609.08359.pdf). You can also inspect the results of the sentiment classification task in [this notebook](https://github.com/uclmr/emoji2vec/blob/master/TwitterClassification.ipynb)."
   ]
  },
  {
   "cell_type": "code",
   "execution_count": 31,
   "metadata": {},
   "outputs": [],
   "source": [
    "plutchick = [[\"Phrase\", \"Closest emojis\"],\n",
    "         [*phrase2emoji(\"serenity\", 5)],\n",
    "         [*phrase2emoji(\"joy\", 5)],\n",
    "         [*phrase2emoji(\"ecstasy\", 5)],\n",
    "         [*phrase2emoji(\"love\", 5)],\n",
    "         [*phrase2emoji(\"acceptance\", 5)],\n",
    "         [*phrase2emoji(\"trust\", 5)],\n",
    "         [*phrase2emoji(\"admiration\", 5)],\n",
    "         [*phrase2emoji(\"submission\", 5)],\n",
    "         [*phrase2emoji(\"apprehension\", 5)],\n",
    "         [*phrase2emoji(\"fear\", 5)],\n",
    "         [*phrase2emoji(\"terror\", 5)],\n",
    "         [*phrase2emoji(\"awe\", 5)],\n",
    "         [*phrase2emoji(\"distraction\", 5)],\n",
    "         [*phrase2emoji(\"surprise\", 5)],\n",
    "         [*phrase2emoji(\"amazement\", 5)],\n",
    "         [*phrase2emoji(\"disapproval\", 5)],\n",
    "         [*phrase2emoji(\"pensiveness\", 5)],\n",
    "         [*phrase2emoji(\"sadness\", 5)],\n",
    "         [*phrase2emoji(\"grief\", 5)],\n",
    "         [*phrase2emoji(\"remorse\", 5)],\n",
    "         [*phrase2emoji(\"boredom\", 5)],\n",
    "         [*phrase2emoji(\"disgust\", 5)],\n",
    "         [*phrase2emoji(\"loathing\", 5)],\n",
    "         [*phrase2emoji(\"contempt\", 5)],\n",
    "         [*phrase2emoji(\"annoyance\", 5)],\n",
    "         [*phrase2emoji(\"anger\", 5)],\n",
    "         [*phrase2emoji(\"rage\", 5)],\n",
    "         [*phrase2emoji(\"aggressive\", 5)],\n",
    "         [*phrase2emoji(\"interest\", 5)],\n",
    "         [*phrase2emoji(\"anticipation\", 5)],\n",
    "         [*phrase2emoji(\"vigilance\", 5)]]"
   ]
  },
  {
   "cell_type": "code",
   "execution_count": 32,
   "metadata": {},
   "outputs": [
    {
     "name": "stdout",
     "output_type": "stream",
     "text": [
      "============  ==========================================================\n",
      "Phrase        Closest emojis\n",
      "============  ==========================================================\n",
      "serenity      ['😌', '😎', '🕉', '⛪', '🦄']\n",
      "joy           ['\\ufeff😀', '🌈', '👨\\u200d👩\\u200d👧', '😺', '🤠']\n",
      "ecstasy       ['⚗', '🍷', '🍄', '🍭', '💊']\n",
      "love          ['💓', '😍', '💞', '❤', '💝']\n",
      "acceptance    ['👍', '💯', '👀', '😉', '🔑']\n",
      "trust         ['🧑\\u200d🤝\\u200d🧑', '🤑', '👬', '👭', '👫']\n",
      "admiration    ['🙇\\u200d♂️', '🙇', '😻', '😙', '💓']\n",
      "submission    ['🙇', '🙇\\u200d♂️', '🧎\\u200d♀️', '🙇\\u200d♀️', '🧎\\u200d♂️']\n",
      "apprehension  ['😦', '😱', '😲', '😧', '😟']\n",
      "fear          ['😱', '🙀', '💉', '😷', '🐍']\n",
      "terror        ['💣', '🧟\\u200d♂️', '🏳', '🇦🇫', '🇪🇹']\n",
      "awe           ['😮', '🤯', '😱', '😵', '🧨']\n",
      "distraction   ['🤷', '🤷\\u200d♀️', '🤷\\u200d♂️', '🙎\\u200d♀️', '🧖\\u200d♀️']\n",
      "surprise      ['😦', '😲', '😧', '⁉', '🎆']\n",
      "amazement     ['😲', '😮', '🙉', '😵', '🤯']\n",
      "disapproval   ['👎', '😒', '😕', '🙅\\u200d♀️', '😠']\n",
      "pensiveness   ['👽', '🤫', '🎻', '🎵', '😹']\n",
      "sadness       ['😦', '😞', '😭', '🙁', '🤧']\n",
      "grief         ['😞', '⚱', '😭', '🏴', '😿']\n",
      "remorse       ['😔', '😶', '😞', '😿', '🟥']\n",
      "boredom       ['😐', '😴', '😑', '😪', '🧖']\n",
      "disgust       ['😒', '😖', '😬', '😕', '🙉']\n",
      "loathing      ['😒', '😡', '😠', '💓', '🐀']\n",
      "contempt      ['🖕', '💅', '😤', '😗', '🤦\\u200d♀️']\n",
      "annoyance     ['😒', '🤷', '🤷\\u200d♂️', '😑', '🤷\\u200d♀️']\n",
      "anger         ['😒', '😡', '😠', '🤬', '🌪']\n",
      "rage          ['😡', '🤬', '🪓', '\\U0001fa9b', '🔫']\n",
      "aggressive    ['🐗', '🦁', '🦍', '🦂', '\\U0001f6fc']\n",
      "interest      ['\\U0001faa7', '💞', '❤️\\u200d🔥', '🤑', '😍']\n",
      "anticipation  ['🙆\\u200d♂️', '🤫', '🙆', '😲', '🙆\\u200d♀️']\n",
      "vigilance     ['🤫', '👁', '🚸', '🛎', '⚠']\n",
      "============  ==========================================================\n"
     ]
    }
   ],
   "source": [
    "print(tabulate(plutchick, headers=\"firstrow\", tablefmt=\"rst\"))"
   ]
  },
  {
   "cell_type": "code",
   "execution_count": 33,
   "metadata": {},
   "outputs": [],
   "source": [
    " humour = [[\"Phrase\", \"Closest emojis\"],\n",
    "         [*phrase2emoji(\"funny\", 20)],\n",
    "         [*phrase2emoji(\"laughing\", 20)],\n",
    "         [*phrase2emoji(\"hysterical\", 20)],\n",
    "         [*phrase2emoji(\"joke\", 20)],\n",
    "         [*phrase2emoji(\"sarcasm\", 20)],\n",
    "         [*phrase2emoji(\"irony\", 20)],\n",
    "         [*phrase2emoji(\"mischief\", 20)],\n",
    "         [*phrase2emoji(\"prank\", 20)],\n",
    "         [*phrase2emoji(\"naughty\", 20)]\n",
    "         \n",
    "        ]"
   ]
  },
  {
   "cell_type": "code",
   "execution_count": 34,
   "metadata": {},
   "outputs": [
    {
     "name": "stdout",
     "output_type": "stream",
     "text": [
      "==========  =====================================================================================================================================================\n",
      "Phrase      Closest emojis\n",
      "==========  =====================================================================================================================================================\n",
      "funny       ['👻', '😂', '💩', '😛', '😹', '😜', '😆', '🐵', '🤣', '🤪', '🤡', '🌝', '😉', '😸', '😝', '🙃', '🐒', '🐷', '🐥', '👯\\u200d♂️']\n",
      "laughing    ['🙈', '🤣', '😂', '🤪', '💩', '😜', '😸', '🙆', '🐵', '😆', '👻', '🦗', '🥳', '😛', '😝', '👯\\u200d♂️', '🙃', '🤔', '⏹', '🦉']\n",
      "hysterical  ['🤣', '🙀', '💀', '😆', '🐵', '😜', '🐣', '🥴', '🙃', '😱', '🐊', '🌝', '🙅\\u200d♀️', '🤪', '🙈', '👻', '🐒', '💩', '😝', '🤡']\n",
      "joke        ['🌝', '😸', '💩', '😜', '👻', '🙃', '😂', '🤣', '🐵', '👴', '😉', '😛', '🦗', '🤪', '🐽', '😆', '🙈', '🤡', '😝', '\\U0001f9ab']\n",
      "sarcasm     ['🙃', '🌝', '😏', '🎻', '😛', '💁\\u200d♂️', '💁', '💁\\u200d♀️', '😜', '🐸', '😼', '💀', '😇', '🖕', '😸', '😆', '🙉', '😉', '😹', '😒']\n",
      "irony       ['🌝', '😏', '🙃', '🥀', '🤑', '🎻', '😉', '😸', '🙋\\u200d♂️', '😊', '😜', '😛', '🤷', '🤴', '😼', '💵', '🤷\\u200d♂️', '💩', '🤦\\u200d♀️', '🌚']\n",
      "mischief    ['😈', '👣', '😼', '🤪', '🐵', '🦹', '👿', '😏', '\\U0001fab1', '🤡', '🦹\\u200d♂️', '😛', '💀', '😜', '🌝', '🍄', '👮\\u200d♂️', '👯\\u200d♂️', '😉', '👺']\n",
      "prank       ['🌝', '😈', '👻', '🤪', '💩', '💣', '🐽', '😉', '🐸', '👺', '🤣', '🤦\\u200d♂️', '🙃', '🐵', '🦗', '🤡', '😸', '🎈', '😜', '🐥']\n",
      "naughty     ['🎅', '👹', '🐵', '🐽', '\\U0001fab6', '👻', '😛', '🤴', '😈', '👶', '🐥', '💩', '🐒', '👯\\u200d♂️', '🐣', '😝', '🤡', '🐰', '👯', '🐷']\n",
      "==========  =====================================================================================================================================================\n"
     ]
    }
   ],
   "source": [
    "print(tabulate(humour, headers=\"firstrow\", tablefmt=\"rst\"))"
   ]
  },
  {
   "cell_type": "code",
   "execution_count": 35,
   "metadata": {},
   "outputs": [],
   "source": [
    "success = [[\"Phrase\", \"Closest emojis\"],\n",
    "           [*phrase2emoji(\"luck\", 5)],\n",
    "           [*phrase2emoji(\"success\", 5)],\n",
    "           [*phrase2emoji(\"boasting\", 5)],\n",
    "           [*phrase2emoji(\"achievement\", 5)],\n",
    "           [*phrase2emoji(\"money\", 5)]]\n",
    "            "
   ]
  },
  {
   "cell_type": "code",
   "execution_count": 36,
   "metadata": {},
   "outputs": [
    {
     "name": "stdout",
     "output_type": "stream",
     "text": [
      "===========  =============================================\n",
      "Phrase       Closest emojis\n",
      "===========  =============================================\n",
      "luck         ['🧚\\u200d♂️', '\\U0001fa99', '🤞', '🥠', '🎲']\n",
      "success      ['🥇', '🔑', '⭐', '🀄', '🤹']\n",
      "boasting     ['😝', '🆕', '➕', '😜', '🦚']\n",
      "achievement  ['🥇', '🎖', '👨\\u200d🎓', '🥉', '🥈']\n",
      "money        ['🏦', '\\U0001fa99', '🤑', '🏧', '🧧']\n",
      "===========  =============================================\n"
     ]
    }
   ],
   "source": [
    "print(tabulate(success, headers=\"firstrow\", tablefmt=\"rst\"))"
   ]
  },
  {
   "cell_type": "code",
   "execution_count": 37,
   "metadata": {},
   "outputs": [],
   "source": [
    " yesno = [[\"Phrase\", \"Closest emojis\"],\n",
    "          [*phrase2emoji(\"no\", 5)],\n",
    "         [*phrase2emoji(\"yes\", 5)],\n",
    "         [*phrase2emoji(\"approval\", 5)],\n",
    "         [*phrase2emoji(\"support\", 5)]]"
   ]
  },
  {
   "cell_type": "code",
   "execution_count": 38,
   "metadata": {},
   "outputs": [
    {
     "name": "stdout",
     "output_type": "stream",
     "text": [
      "========  ===========================================================\n",
      "Phrase    Closest emojis\n",
      "========  ===========================================================\n",
      "no        ['👎', '🆖', '🙅', '🈵', '🙅\\u200d♂️']\n",
      "yes       ['👍', '🉑', '👎', '👩\\u200d❤️\\u200d👨', '❓']\n",
      "approval  ['✔', '👀', '👍', '🆗', '👌']\n",
      "support   ['🤗', '🏳️\\u200d🌈', '🧑\\u200d💼', '👩\\u200d💼', '🏳️\\u200d⚧️']\n",
      "========  ===========================================================\n"
     ]
    }
   ],
   "source": [
    " print(tabulate(yesno, headers=\"firstrow\", tablefmt=\"rst\"))"
   ]
  },
  {
   "cell_type": "code",
   "execution_count": 39,
   "metadata": {},
   "outputs": [],
   "source": [
    "silence = [[\"Phrase\", \"Closest emojis\"],\n",
    "          [*phrase2emoji(\"secret\", 5)],\n",
    "          [*phrase2emoji(\"discretion\", 5)],\n",
    "          [*phrase2emoji(\"private\", 5)],\n",
    "          [*phrase2emoji(\"disguise\", 5)],\n",
    "          [*phrase2emoji(\"shut up\", 5)],\n",
    "          [*phrase2emoji(\"silence\", 5)]]\n"
   ]
  },
  {
   "cell_type": "code",
   "execution_count": 40,
   "metadata": {},
   "outputs": [
    {
     "name": "stdout",
     "output_type": "stream",
     "text": [
      "==========  =================================================\n",
      "Phrase      Closest emojis\n",
      "==========  =================================================\n",
      "secret      ['㊙', '\\U0001fab1', '🙊', '🕵️\\u200d♂️', '🐽']\n",
      "discretion  ['🙊', '🙉', '🧑\\u200d⚖️', '👑', '👨\\u200d⚖️']\n",
      "private     ['\\U0001f978', '🕵️\\u200d♀️', '🕵️\\u200d♂️', '🏘', '🈲']\n",
      "disguise    ['\\U0001f978', '👺', '\\U0001f977', '🐽', '🤺']\n",
      "shut up     ['🤐', '🈺', '⤴', '\\U0001faa0', '🚨']\n",
      "silence     ['😶', '📣', '🔇', '🎻', '⛪']\n",
      "==========  =================================================\n"
     ]
    }
   ],
   "source": [
    "print(tabulate(silence, headers=\"firstrow\", tablefmt=\"rst\"))"
   ]
  },
  {
   "cell_type": "code",
   "execution_count": 41,
   "metadata": {},
   "outputs": [],
   "source": [
    "gossip = [[\"Phrase\", \"Closest emojis\"],\n",
    "         [*phrase2emoji(\"indifference\", 5)],\n",
    "         [*phrase2emoji(\"gossip\", 5)],\n",
    "         [*phrase2emoji(\"sassy\", 5)],\n",
    "         [*phrase2emoji(\"liar\", 5)],\n",
    "         [*phrase2emoji(\"tattletale\", 5)],\n",
    "         [*phrase2emoji(\"wierd\", 5)],\n",
    "         [*phrase2emoji(\"geek\", 5)],\n",
    "         [*phrase2emoji(\"evil\", 5)],\n",
    "         [*phrase2emoji(\"life\", 5)],\n",
    "         [*phrase2emoji(\"death\", 5)]]\n"
   ]
  },
  {
   "cell_type": "code",
   "execution_count": 42,
   "metadata": {},
   "outputs": [
    {
     "name": "stdout",
     "output_type": "stream",
     "text": [
      "============  ==============================================================\n",
      "Phrase        Closest emojis\n",
      "============  ==============================================================\n",
      "indifference  ['💅', '😑', '🤷\\u200d♂️', '🤷', '🤷\\u200d♀️']\n",
      "gossip        ['🧑\\u200d🚒', '👨\\u200d🚒', '\\U0001fab1', '👩\\u200d🚒', '🐸']\n",
      "sassy         ['💁', '💁\\u200d♂️', '👯\\u200d♀️', '👯', '👸']\n",
      "liar          ['🤥', '🐀', '🤦\\u200d♂️', '🐥', '🐔']\n",
      "tattletale    ['\\U0001fab1', '🐵', '🐥', '🤥', '🐽']\n",
      "wierd         ['👻', '🤖', '🐥', '🐣', '🤓']\n",
      "geek          ['👨\\u200d💻', '👩\\u200d💻', '👾', '🤓', '🤖']\n",
      "evil          ['🦹', '👿', '👹', '🦹\\u200d♂️', '🦹\\u200d♀️']\n",
      "life          ['🧬', '🌆', '\\U0001fac0', '🌉', '🌃']\n",
      "death         ['⚰', '\\U0001faa6', '🐡', '⚱', '😵']\n",
      "============  ==============================================================\n"
     ]
    }
   ],
   "source": [
    "print(tabulate(gossip, headers=\"firstrow\", tablefmt=\"rst\"))"
   ]
  },
  {
   "cell_type": "code",
   "execution_count": 43,
   "metadata": {},
   "outputs": [],
   "source": [
    " positive = [[\"Phrase\", \"Closest emojis\"],\n",
    "         [*phrase2emoji(\"warmth\", 5)],\n",
    "         [*phrase2emoji(\"positive\", 5)],\n",
    "         [*phrase2emoji(\"relaxation\", 5)],\n",
    "         [*phrase2emoji(\"calm\", 5)],\n",
    "         [*phrase2emoji(\"stress\", 5)],\n",
    "         [*phrase2emoji(\"storm\", 5)],\n",
    "         [*phrase2emoji(\"vacation\", 5)]]"
   ]
  },
  {
   "cell_type": "code",
   "execution_count": 44,
   "metadata": {},
   "outputs": [
    {
     "name": "stdout",
     "output_type": "stream",
     "text": [
      "==========  =================================================\n",
      "Phrase      Closest emojis\n",
      "==========  =================================================\n",
      "warmth      ['😊', '😸', '❄', '🤗', '🌷']\n",
      "positive    ['⤴', '🙂', '📈', '😌', '🌞']\n",
      "relaxation  ['🧘\\u200d♀️', '🕯', '🧘', '🏌️\\u200d♂️', '💆\\u200d♂️']\n",
      "calm        ['🕉', '😌', '☮', '🧊', '😶\\u200d🌫️']\n",
      "stress      ['🧖\\u200d♀️', '💦', '🧖', '🧖\\u200d♂️', '🙀']\n",
      "storm       ['🌀', '⛈', '🌨', '🌪', '🌧']\n",
      "vacation    ['🌴', '🏖', '🕶', '🚤', '🚵\\u200d♂️']\n",
      "==========  =================================================\n"
     ]
    }
   ],
   "source": [
    "print(tabulate(positive, headers=\"firstrow\", tablefmt=\"rst\"))"
   ]
  },
  {
   "cell_type": "code",
   "execution_count": 45,
   "metadata": {},
   "outputs": [],
   "source": [
    "judge = [[\"Phrase\", \"Closest emojis\"],\n",
    "        [*phrase2emoji(\"skepticism\", 5)],\n",
    "        [*phrase2emoji(\"questioning\", 5)],\n",
    "        [*phrase2emoji(\"judgement\", 5)]]"
   ]
  },
  {
   "cell_type": "code",
   "execution_count": 46,
   "metadata": {},
   "outputs": [
    {
     "name": "stdout",
     "output_type": "stream",
     "text": [
      "===========  ===================================================\n",
      "Phrase       Closest emojis\n",
      "===========  ===================================================\n",
      "skepticism   ['😲', '🤷\\u200d♂️', '😕', '🤷', '😦']\n",
      "questioning  ['⁉', '🧐', '🤔', '👨\\u200d❤️\\u200d👨', '🧑\\u200d⚖️']\n",
      "judgement    ['🆎', '🔝', '📷', '💄', '🟩']\n",
      "===========  ===================================================\n"
     ]
    }
   ],
   "source": [
    "print(tabulate(judge, headers=\"firstrow\", tablefmt=\"rst\"))"
   ]
  },
  {
   "cell_type": "code",
   "execution_count": 47,
   "metadata": {},
   "outputs": [],
   "source": [
    "movement = [[\"Phrase\", \"Closest emojis\"],\n",
    "        [*phrase2emoji(\"late\", 5)],\n",
    "        [*phrase2emoji(\"hurry\", 5)],\n",
    "        [*phrase2emoji(\"escape\", 5)],\n",
    "        [*phrase2emoji(\"relief\", 5)],\n",
    "        [*phrase2emoji(\"movement\", 5)],\n",
    "        [*phrase2emoji(\"descending\", 5)]]"
   ]
  },
  {
   "cell_type": "code",
   "execution_count": 48,
   "metadata": {},
   "outputs": [
    {
     "name": "stdout",
     "output_type": "stream",
     "text": [
      "==========  ===================================================\n",
      "Phrase      Closest emojis\n",
      "==========  ===================================================\n",
      "late        ['🚑', '🦽', '🦼', '⏲', '🏃']\n",
      "hurry       ['🏃', '🏃\\u200d♀️', '🏃\\u200d♂️', '⏩', '⏫']\n",
      "escape      ['\\U0001fa9d', '🧗', '🧗\\u200d♀️', '🧗\\u200d♂️', '⏏']\n",
      "relief      ['😮\\u200d💨', '😅', '😂', '😌', '🏃\\u200d♀️']\n",
      "movement    ['✊', '♓', '🏴\\u200d☠️', '\\U0001faa7', '🕺']\n",
      "descending  ['⛷', '🏂', '🪂', '🧗\\u200d♂️', '⏏']\n",
      "==========  ===================================================\n"
     ]
    }
   ],
   "source": [
    "print(tabulate(movement, headers=\"firstrow\", tablefmt=\"rst\"))"
   ]
  },
  {
   "cell_type": "code",
   "execution_count": 49,
   "metadata": {},
   "outputs": [],
   "source": [
    "friend = [[\"Phrase\", \"Closest emojis\"],\n",
    "        [*phrase2emoji(\"celebration\", 5)],\n",
    "         [*phrase2emoji(\"friendship\", 5)],\n",
    "          [*phrase2emoji(\"family\", 5)],\n",
    "          [*phrase2emoji(\"fascination\", 5)]]\n",
    "         "
   ]
  },
  {
   "cell_type": "code",
   "execution_count": 50,
   "metadata": {},
   "outputs": [
    {
     "name": "stdout",
     "output_type": "stream",
     "text": [
      "===========  ====================================================\n",
      "Phrase       Closest emojis\n",
      "===========  ====================================================\n",
      "celebration  ['🎏', '🍸', '🍻', '🧧', '🎁']\n",
      "friendship   ['👬', '💕', '❤', '👭', '👩\\u200d❤️\\u200d💋\\u200d👨']\n",
      "family       ['🏠', '👪', '🤰', '👩\\u200d👦', '👨\\u200d👧']\n",
      "fascination  ['☄', '😍', '💓', '💞', '😻']\n",
      "===========  ====================================================\n"
     ]
    }
   ],
   "source": [
    "print(tabulate(friend, headers=\"firstrow\", tablefmt=\"rst\"))"
   ]
  },
  {
   "cell_type": "code",
   "execution_count": 51,
   "metadata": {},
   "outputs": [],
   "source": [
    "fit = [[\"Phrase\", \"Closest emojis\"],\n",
    "    [*phrase2emoji(\"sport\", 5)],\n",
    "    [*phrase2emoji(\"exercise\", 5)],\n",
    "    [*phrase2emoji(\"diet\", 5)],\n",
    "    [*phrase2emoji(\"fat\", 5)],\n",
    "    [*phrase2emoji(\"appearence\", 5)]]\n",
    "         "
   ]
  },
  {
   "cell_type": "code",
   "execution_count": 52,
   "metadata": {},
   "outputs": [
    {
     "name": "stdout",
     "output_type": "stream",
     "text": [
      "==========  ===========================================================\n",
      "Phrase      Closest emojis\n",
      "==========  ===========================================================\n",
      "sport       ['🏑', '⚾', '🎽', '🏆', '🥍']\n",
      "exercise    ['⏱', '🏊', '👟', '🚴\\u200d♀️', '🏇']\n",
      "diet        ['🥒', '🥗', '🥬', '🥑', '🌽']\n",
      "fat         ['\\U0001f9ac', '🤰', '🐄', '🐳', '🐖']\n",
      "appearence  ['💇', '💇\\u200d♂️', '💇\\u200d♀️', '👩\\u200d🦰', '🤵\\u200d♂️']\n",
      "==========  ===========================================================\n"
     ]
    }
   ],
   "source": [
    "print(tabulate(fit, headers=\"firstrow\", tablefmt=\"rst\"))"
   ]
  },
  {
   "cell_type": "code",
   "execution_count": 53,
   "metadata": {},
   "outputs": [],
   "source": [
    "politics = [[\"Phrase\", \"Closest emojis\"],\n",
    "    [*phrase2emoji(\"race\", 5)],\n",
    "    [*phrase2emoji(\"age\", 5)],\n",
    "    [*phrase2emoji(\"disability\", 5)],\n",
    "    [*phrase2emoji(\"politics\", 5)],\n",
    "    [*phrase2emoji(\"religion\", 5)]]"
   ]
  },
  {
   "cell_type": "code",
   "execution_count": 54,
   "metadata": {},
   "outputs": [
    {
     "name": "stdout",
     "output_type": "stream",
     "text": [
      "==========  =============================================================\n",
      "Phrase      Closest emojis\n",
      "==========  =============================================================\n",
      "race        ['🐎', '🎌', '🏇', '🥈', '🥉']\n",
      "age         ['🧑\\u200d🦳', '👴', '🧑\\u200d🦼', '🧓', '🌱']\n",
      "disability  ['👩\\u200d👩\\u200d👧\\u200d👧', '🦼', '🏥', '🦽', '🧑\\u200d⚕️']\n",
      "politics    ['\\U0001faa7', '🇱🇧', '🇩🇴', '🇰🇵', '🇸🇾']\n",
      "religion    ['🕍', '🛐', '🕉', '📿', '✡']\n",
      "==========  =============================================================\n"
     ]
    }
   ],
   "source": [
    " print(tabulate(politics, headers=\"firstrow\", tablefmt=\"rst\"))"
   ]
  },
  {
   "cell_type": "code",
   "execution_count": 55,
   "metadata": {},
   "outputs": [],
   "source": [
    "timeofyear = [[\"Phrase\", \"Closest emojis\"],\n",
    "        [*phrase2emoji(\"halloween\", 5)],\n",
    "        [*phrase2emoji(\"christmas\", 5)],\n",
    "        [*phrase2emoji(\"easter\", 5)],\n",
    "        [*phrase2emoji(\"new year\", 5)],\n",
    "        [*phrase2emoji(\"ramadan\", 5)],\n",
    "        [*phrase2emoji(\"winter\", 5)],\n",
    "        [*phrase2emoji(\"summer\", 5)],\n",
    "        [*phrase2emoji(\"spring\", 5)],\n",
    "        [*phrase2emoji(\"autumn\", 5)],\n",
    "        [*phrase2emoji(\"day\", 5)],\n",
    "        [*phrase2emoji(\"night\", 5)],\n",
    "        [*phrase2emoji(\"light\", 5)],\n",
    "        [*phrase2emoji(\"dark\", 5)]]"
   ]
  },
  {
   "cell_type": "code",
   "execution_count": 56,
   "metadata": {},
   "outputs": [
    {
     "name": "stdout",
     "output_type": "stream",
     "text": [
      "=========  ============================================\n",
      "Phrase     Closest emojis\n",
      "=========  ============================================\n",
      "halloween  ['⚰', '🎃', '🤡', '👻', '🌕']\n",
      "christmas  ['🤶', '🎅', '☃', '🦃', '🎁']\n",
      "easter     ['🥚', '🐥', '🐤', '🐇', '🌸']\n",
      "new year   ['🎇', '🎍', '🌱', '🐲', '🎈']\n",
      "ramadan    ['👳\\u200d♂️', '👳', '👳\\u200d♀️', '🇾🇪', '🥮']\n",
      "winter     ['🌨', '🧤', '🧥', '🧣', '⛄']\n",
      "summer     ['🩳', '🩱', '🌞', '👙', '🍃']\n",
      "spring     ['🍃', '🌱', '🌿', '🌼', '🕓']\n",
      "autumn     ['🍂', '🍃', '🍁', '🌸', '🥮']\n",
      "day        ['🕗', '🕧', '🕦', '🕠', '🕡']\n",
      "night      ['🕔', '✴', '🌇', '🕟', '🕐']\n",
      "light      ['☀', '🏮', '🔦', '💡', '🟡']\n",
      "dark       ['🖤', '🔦', '🥕', '😨', '🌑']\n",
      "=========  ============================================\n"
     ]
    }
   ],
   "source": [
    "print(tabulate(timeofyear, headers=\"firstrow\", tablefmt=\"rst\"))"
   ]
  },
  {
   "cell_type": "code",
   "execution_count": 57,
   "metadata": {},
   "outputs": [],
   "source": [
    "job = [[\"Phrase\", \"Closest emojis\"],\n",
    "    [*phrase2emoji(\"career\", 5)],\n",
    "    [*phrase2emoji(\"student\", 5)],\n",
    "    [*phrase2emoji(\"learning\", 5)],\n",
    "    [*phrase2emoji(\"knowledge\", 5)],\n",
    "    [*phrase2emoji(\"hard work\", 5)],\n",
    "    [*phrase2emoji(\"repetition\", 5)],\n",
    "    [*phrase2emoji(\"amateur\", 5)],\n",
    "    [*phrase2emoji(\"job\", 5)]]"
   ]
  },
  {
   "cell_type": "code",
   "execution_count": 58,
   "metadata": {},
   "outputs": [
    {
     "name": "stdout",
     "output_type": "stream",
     "text": [
      "==========  ======================================================================\n",
      "Phrase      Closest emojis\n",
      "==========  ======================================================================\n",
      "career      ['👔', '⭐', '♍', '🌉', '🤸\\u200d♂️']\n",
      "student     ['👨\\u200d🎓', '👩\\u200d🎓', '🧪', '🧑\\u200d🎓', '🥋']\n",
      "learning    ['👨\\u200d🎓', '🧑\\u200d🎓', '💡', '👨\\u200d🏫', '🤯']\n",
      "knowledge   ['👨\\u200d🏫', '🧑\\u200d🏫', '🤓', '🧝', '🧝\\u200d♂️']\n",
      "hard work   ['⚙', '🏋️\\u200d♀️', '⚒', '👩\\u200d🏭', '🔨']\n",
      "repetition  ['🔄', '🔁', '🧑\\u200d🏭', '😛', '🤹']\n",
      "amateur     ['🧑\\u200d🍳', '🧑\\u200d🎤', '👨\\u200d🍳', '👨\\u200d🎨', '👨\\u200d🎤']\n",
      "job         ['🙆\\u200d♂️', '👷\\u200d♂️', '👞', '🏢', '🏭']\n",
      "==========  ======================================================================\n"
     ]
    }
   ],
   "source": [
    " print(tabulate(job, headers=\"firstrow\", tablefmt=\"rst\"))"
   ]
  },
  {
   "cell_type": "code",
   "execution_count": 59,
   "metadata": {},
   "outputs": [],
   "source": [
    "plutchick2 = [[\"Phrase\", \"Closest emojis\"],\n",
    "         [*phrase2emoji(\"serenity\", 20)],\n",
    "         [*phrase2emoji(\"joy\", 20)],\n",
    "         [*phrase2emoji(\"ecstasy\", 20)],\n",
    "         [*phrase2emoji(\"love\", 20)],\n",
    "         [*phrase2emoji(\"acceptance\", 20)],\n",
    "         [*phrase2emoji(\"trust\", 20)],\n",
    "         [*phrase2emoji(\"admiration\", 20)],\n",
    "         [*phrase2emoji(\"submission\", 20)],\n",
    "         [*phrase2emoji(\"apprehension\", 20)],\n",
    "         [*phrase2emoji(\"fear\", 20)],\n",
    "         [*phrase2emoji(\"terror\", 20)],\n",
    "         [*phrase2emoji(\"awe\", 20)],\n",
    "         [*phrase2emoji(\"distraction\", 20)],\n",
    "         [*phrase2emoji(\"surprise\", 20)],\n",
    "         [*phrase2emoji(\"amazement\", 20)],\n",
    "         [*phrase2emoji(\"disapproval\", 20)],\n",
    "         [*phrase2emoji(\"pensiveness\", 20)],\n",
    "         [*phrase2emoji(\"sadness\", 20)],\n",
    "         [*phrase2emoji(\"grief\", 20)],\n",
    "         [*phrase2emoji(\"remorse\", 20)],\n",
    "         [*phrase2emoji(\"boredom\", 20)],\n",
    "         [*phrase2emoji(\"disgust\", 20)],\n",
    "         [*phrase2emoji(\"loathing\", 20)],\n",
    "         [*phrase2emoji(\"contempt\", 20)],\n",
    "         [*phrase2emoji(\"annoyance\", 20)],\n",
    "         [*phrase2emoji(\"anger\", 20)],\n",
    "         [*phrase2emoji(\"rage\", 20)],\n",
    "         [*phrase2emoji(\"aggressive\", 20)],\n",
    "         [*phrase2emoji(\"interest\", 20)],\n",
    "         [*phrase2emoji(\"anticipation\", 20)],\n",
    "         [*phrase2emoji(\"vigilance\", 20)]]"
   ]
  },
  {
   "cell_type": "code",
   "execution_count": 60,
   "metadata": {},
   "outputs": [
    {
     "name": "stdout",
     "output_type": "stream",
     "text": [
      "============  =============================================================================================================================================================================================================\n",
      "Phrase        Closest emojis\n",
      "============  =============================================================================================================================================================================================================\n",
      "serenity      ['😌', '😎', '🕉', '⛪', '🦄', '🌈', '🏵', '🦋', '🌷', '🍷', '🧖\\u200d♀️', '☮', '🌼', '🌹', '😊', '🚣\\u200d♂️', '🧝', '😶\\u200d🌫️', '🏌️\\u200d♀️', '🕊']\n",
      "joy           ['\\ufeff😀', '🌈', '👨\\u200d👩\\u200d👧', '😺', '🤠', '😭', '🎆', '🧧', '🥳', '🎄', '😊', '😫', '👨\\u200d👨\\u200d👧', '🎵', '👨\\u200d👩\\u200d👦', '🙆\\u200d♂️', '🥰', '👩\\u200d👦', '👩\\u200d👩\\u200d👦', '😝']\n",
      "ecstasy       ['⚗', '🍷', '🍄', '🍭', '💊', '👨\\u200d👨\\u200d👧', '🍸', '🐉', '🎆', '🥴', '🍯', '💫', '👩\\u200d🎨', '☠', '🙆\\u200d♂️', '👨\\u200d👩\\u200d👧', '👨\\u200d❤️\\u200d💋\\u200d👨', '🌫', '🥃', '🧜']\n",
      "love          ['💓', '😍', '💞', '❤', '💝', '😽', '💋', '😘', '🔐', '🏳️\\u200d🌈', '♥', '🤍', '🥰', '💘', '\\U0001fac0', '👩\\u200d❤️\\u200d💋\\u200d👨', '💚', '👨\\u200d❤️\\u200d💋\\u200d👨', '🍫', '🎋']\n",
      "acceptance    ['👍', '💯', '👀', '😉', '🔑', '🏳️\\u200d🌈', '🤗', '🏳️\\u200d⚧️', '😃', '🙆\\u200d♂️', '🙌', '⚪', '🙆\\u200d♀️', '😍', '🤑', '😼', '🉑', '🤠', '🏧', '😗']\n",
      "trust         ['🧑\\u200d🤝\\u200d🧑', '🤑', '👬', '👭', '👫', '🤗', '🔐', '\\U0001f90c', '🏦', '💗', '🤍', '💝', '💟', '🏳️\\u200d⚧️', '🤛', '❣', '🖕', '❔', '💚', '💞']\n",
      "admiration    ['🙇\\u200d♂️', '🙇', '😻', '😙', '💓', '🙇\\u200d♀️', '💞', '❣', '😗', '😍', '🥺', '🤍', '😸', '😽', '🤑', '😲', '😫', '💗', '\\U0001faa7', '🔥']\n",
      "submission    ['🙇', '🙇\\u200d♂️', '🧎\\u200d♀️', '🙇\\u200d♀️', '🧎\\u200d♂️', '🧎', '🤜', '🤛', '🦘', '✔', '👊', '📋', '☑', '🧑\\u200d⚖️', '👀', '✒', '📪', '🙅', '🆚', '🗓']\n",
      "apprehension  ['😦', '😱', '😲', '😧', '😟', '🤷\\u200d♂️', '😥', '😬', '🤷', '😕', '🙀', '😨', '😮\\u200d💨', '🦂', '😓', '🤨', '😰', '🦅', '🤷\\u200d♀️', '💀']\n",
      "fear          ['😱', '🙀', '💉', '😷', '🐍', '😨', '🕷', '\\U0001fab2', '😰', '🤡', '🦂', '😥', '\\U0001fab3', '🤷\\u200d♂️', '⚠', '🤷', '💀', '☣', '☠', '😦']\n",
      "terror        ['💣', '🧟\\u200d♂️', '🏳', '🇦🇫', '🇪🇹', '🇦🇪', '☠', '🧟', '🧟\\u200d♀️', '🇳🇱', '🇮🇶', '🐀', '🇩🇰', '🇸🇦', '🇮🇱', '🇵🇸', '🇸🇴', '🇭🇳', '🇸🇾', '🇰🇪']\n",
      "awe           ['😮', '🤯', '😱', '😵', '🧨', '🎆', '🙀', '😲', '😳', '🤩', '😃', '😶', '😏', '😰', '🦉', '🙈', '🙉', '😣', '😥', '😭']\n",
      "distraction   ['🤷', '🤷\\u200d♀️', '🤷\\u200d♂️', '🙎\\u200d♀️', '🧖\\u200d♀️', '🚥', '🤹\\u200d♂️', '😑', '🙎\\u200d♂️', '💩', '📴', '😪', '😛', '🤹\\u200d♀️', '😩', '🙎', '🦗', '🐴', '🧖', '😈']\n",
      "surprise      ['😦', '😲', '😧', '⁉', '🎆', '‼', '😯', '😳', '🙈', '🍆', '😗', '😵', '😮', '🤭', '💑', '💥', '🤩', '\\U0001fab6', '😃', '👨\\u200d❤️\\u200d👨']\n",
      "amazement     ['😲', '😮', '🙉', '😵', '🤯', '😳', '😦', '😃', '🙈', '😧', '🙀', '😬', '😯', '😫', '😖', '😱', '😕', '😭', '😸', '🤷\\u200d♂️']\n",
      "disapproval   ['👎', '😒', '😕', '🙅\\u200d♀️', '😠', '🖕', '🙅', '😬', '🤨', '😾', '🙄', '😤', '😐', '🙎', '🌚', '🍅', '😦', '💀', '😡', '🌪']\n",
      "pensiveness   ['👽', '🤫', '🎻', '🎵', '😹', '😽', '🤠', '😛', '⏬', '💓', '🧖\\u200d♀️', '🥁', '😩', '🌑', '🌛', '🍂', '👩\\u200d🦰', '🐈', '🔉', '🐼']\n",
      "sadness       ['😦', '😞', '😭', '🙁', '🤧', '😔', '😿', '🎻', '😓', '😣', '☹', '😢', '😨', '😪', '😕', '💧', '😩', '😥', '😖', '😫']\n",
      "grief         ['😞', '⚱', '😭', '🏴', '😿', '😓', '😖', '💀', '😩', '😦', '😢', '🎻', '😪', '😣', '👩\\u200d👩\\u200d👧', '🤧', '😵', '😥', '\\U0001f972', '🤕']\n",
      "remorse       ['😔', '😶', '😞', '😿', '🟥', '😓', '🧎\\u200d♀️', '🙎', '🤷\\u200d♂️', '🏴', '🔪', '🧎\\u200d♂️', '🧎', '😗', '🤦\\u200d♀️', '🙇\\u200d♀️', '🤷', '🙉', '💀', '🤷\\u200d♀️']\n",
      "boredom       ['😐', '😴', '😑', '😪', '🧖', '🧖\\u200d♀️', '🥵', '🍓', '😩', '🧖\\u200d♂️', '🥴', '☕', '😔', '😫', '🍧', '🍫', '🍯', '😣', '💦', '🍎']\n",
      "disgust       ['😒', '😖', '😬', '😕', '🙉', '🤮', '🚽', '😲', '😦', '\\U0001fab3', '🤷\\u200d♂️', '🤬', '🐀', '\\U0001f90c', '😢', '🤦\\u200d♀️', '🤦', '😠', '😳', '🤢']\n",
      "loathing      ['😒', '😡', '😠', '💓', '🐀', '🧿', '🤑', '😤', '🤷\\u200d♂️', '🙀', '🙅', '🔫', '😼', '🌈', '🤷', '😍', '😻', '🖕', '😱', '💞']\n",
      "contempt      ['🖕', '💅', '😤', '😗', '🤦\\u200d♀️', '😏', '🙅\\u200d♀️', '😒', '🐽', '\\U0001fab3', '🔫', '🤦', '🤬', '🐀', '\\U0001f90c', '🤷', '🙇', '🙅\\u200d♂️', '🙎', '\\U0001faa7']\n",
      "annoyance     ['😒', '🤷', '🤷\\u200d♂️', '😑', '🤷\\u200d♀️', '\\U0001fab3', '😾', '😠', '😫', '😏', '😬', '🙎\\u200d♀️', '👎', '😧', '😪', '😦', '😯', '😲', '🦗', '🙎']\n",
      "anger         ['😒', '😡', '😠', '🤬', '🌪', '😾', '🟥', '😖', '🌋', '☣', '😬', '😤', '\\U0001fa85', '🏀', '🙄', '😦', '😕', '😭', '⚠', '🔪']\n",
      "rage          ['😡', '🤬', '🪓', '\\U0001fa9b', '🔫', '😾', '😒', '😠', '🍵', '🥊', '💣', '🌪', '🙄', '🦅', '🙅\\u200d♀️', '🐗', '😤', '🦹\\u200d♂️', '🌋', '🤦\\u200d♀️']\n",
      "aggressive    ['🐗', '🦁', '🦍', '🦂', '\\U0001f6fc', '🙅\\u200d♀️', '🦡', '🙂', '🙅\\u200d♂️', '🐘', '🐢', '🦔', '🤫', '🦜', '😡', '🤼\\u200d♀️', '🦧', '🌋', '♏', '🔇']\n",
      "interest      ['\\U0001faa7', '💞', '❤️\\u200d🔥', '🤑', '😍', '💸', '👫', '🇧🇾', '\\U0001f90c', '🏳️\\u200d⚧️', '👎', '🤍', '🔥', '🧑\\u200d🚒', '🇵🇫', '🧑\\u200d🤝\\u200d🧑', '\\U0001fac2', '🏳️\\u200d🌈', '🔐', '🤿']\n",
      "anticipation  ['🙆\\u200d♂️', '🤫', '🙆', '😲', '🙆\\u200d♀️', '😱', '😫', '🙌', '😦', '😮\\u200d💨', '❗', '🙀', '😃', '🗓', '👁', '📶', '🎑', '\\ufeff😀', '📭', '😗']\n",
      "vigilance     ['🤫', '👁', '🚸', '🛎', '⚠', '👨\\u200d🚒', '👁️\\u200d🗨️', '🗜', '🔒', '🦺', '🇲🇹', '☢', '☣', '🔐', '🦅', '🧑\\u200d🚒', '🇳🇵', '👮\\u200d♂️', '🧐', '🛡']\n",
      "============  =============================================================================================================================================================================================================\n"
     ]
    }
   ],
   "source": [
    "print(tabulate(plutchick2, headers=\"firstrow\", tablefmt=\"rst\"))"
   ]
  },
  {
   "cell_type": "code",
   "execution_count": 93,
   "metadata": {},
   "outputs": [],
   "source": [
    "sentence = [[\"Phrase\", \"Closest emojis\"],\n",
    "    [*phrase2emoji(\"I\", 1)],\n",
    "    [*phrase2emoji(\"walked\", 1)],\n",
    "    [*phrase2emoji(\"the\", 1)],\n",
    "    [*phrase2emoji(\"dog\", 1)],\n",
    "    [*phrase2emoji(\"in\", 1)],\n",
    "    [*phrase2emoji(\"the\", 1)],\n",
    "    [*phrase2emoji(\"park\", 1)]]"
   ]
  },
  {
   "cell_type": "code",
   "execution_count": 94,
   "metadata": {},
   "outputs": [
    {
     "name": "stdout",
     "output_type": "stream",
     "text": [
      "========  ================\n",
      "Phrase    Closest emojis\n",
      "========  ================\n",
      "I         ['🉑']\n",
      "walked    ['🚶\\u200d♀️']\n",
      "the       ['👆']\n",
      "dog       ['🐶']\n",
      "in        ['💑']\n",
      "the       ['👆']\n",
      "park      ['⛲']\n",
      "it        ['🤙']\n",
      "was       ['🤷\\u200d♂️']\n",
      "great     ['🥳']\n",
      "========  ================\n"
     ]
    }
   ],
   "source": [
    "print(tabulate(sentence, headers=\"firstrow\", tablefmt=\"rst\"))"
   ]
  },
  {
   "cell_type": "code",
   "execution_count": 77,
   "metadata": {},
   "outputs": [],
   "source": [
    "sentence2 = [[\"Phrase\", \"Closest emojis\"],\n",
    "    [*phrase2emoji(\"I\", 1)],\n",
    "    [*phrase2emoji(\"love\", 1)],\n",
    "    [*phrase2emoji(\"you\", 1)]]"
   ]
  },
  {
   "cell_type": "code",
   "execution_count": 78,
   "metadata": {},
   "outputs": [
    {
     "name": "stdout",
     "output_type": "stream",
     "text": [
      "========  ================\n",
      "Phrase    Closest emojis\n",
      "========  ================\n",
      "I         ['🉑']\n",
      "love      ['💓']\n",
      "you       ['👷']\n",
      "========  ================\n"
     ]
    }
   ],
   "source": [
    "print(tabulate(sentence2, headers=\"firstrow\", tablefmt=\"rst\"))"
   ]
  },
  {
   "cell_type": "code",
   "execution_count": null,
   "metadata": {},
   "outputs": [],
   "source": []
  }
 ],
 "metadata": {
  "kernelspec": {
   "display_name": "Python 3",
   "language": "python",
   "name": "python3"
  },
  "language_info": {
   "codemirror_mode": {
    "name": "ipython",
    "version": 3
   },
   "file_extension": ".py",
   "mimetype": "text/x-python",
   "name": "python",
   "nbconvert_exporter": "python",
   "pygments_lexer": "ipython3",
   "version": "3.8.8"
  }
 },
 "nbformat": 4,
 "nbformat_minor": 2
}
